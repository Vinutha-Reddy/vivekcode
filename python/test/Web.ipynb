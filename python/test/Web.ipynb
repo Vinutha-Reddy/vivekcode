{
  "nbformat": 4,
  "nbformat_minor": 0,
  "metadata": {
    "colab": {
      "provenance": [],
      "authorship_tag": "ABX9TyNr93LEmL+mJVDUBp6X03wO"
    },
    "kernelspec": {
      "name": "python3",
      "display_name": "Python 3"
    },
    "language_info": {
      "name": "python"
    }
  },
  "cells": [
    {
      "cell_type": "code",
      "execution_count": null,
      "metadata": {
        "id": "wz1mAEQD8Evy"
      },
      "outputs": [],
      "source": [
        "\n",
        "\n",
        "import requests\n",
        "from bs4 import BeautifulSoup\n",
        "\n",
        "def display_website(url):\n",
        "    try:\n",
        "        response = requests.get(url)\n",
        "        response.raise_for_status()\n",
        "        soup = BeautifulSoup(response.text, 'html.parser')\n",
        "        print(soup.prettify())\n",
        "    except requests.exceptions.RequestException as e:\n",
        "        print(\"An error occurred:\", e)\n",
        "\n",
        "website_url = input(\"Enter the website URL: \")\n",
        "display_website(website_url)"
      ]
    }
  ]
}