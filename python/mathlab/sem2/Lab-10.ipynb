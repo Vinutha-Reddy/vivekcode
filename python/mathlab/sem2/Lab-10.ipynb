{
 "cells": [
  {
   "attachments": {},
   "cell_type": "markdown",
   "metadata": {},
   "source": [
    "10.1 Apply the Runge Kutta method to find the solution of dy/dx = 1 + (y/x) at y(2) taking\n",
    "h = 0.2. Given that y(1) = 2.\n"
   ]
  },
  {
   "cell_type": "code",
   "execution_count": 7,
   "metadata": {},
   "outputs": [
    {
     "name": "stdout",
     "output_type": "stream",
     "text": [
      "[2.   2.62 2.62 2.62 2.62 2.62]\n"
     ]
    }
   ],
   "source": [
    "from sympy import *\n",
    "import numpy as np\n",
    "\n",
    "def RungeKutta(g, xo, h, yo, xn):\n",
    "  x, y = symbols('x, y')\n",
    "  f = lambdify([x, y], g)\n",
    "  xt = xo + h\n",
    "  Y = [yo]\n",
    "  while xt <= xn:\n",
    "    k1 = h * f(xo, yo)\n",
    "    k2 = h * f(xo + h / 2, yo + k1 / 2)\n",
    "    k3 = h * f(xo + h / 2, yo + k2 / 2)\n",
    "    k4 = h * f(xo + h, yo + k3)\n",
    "    y1 = yo + (1 / 6) * (k1 + 2 * k2 + 2 * k3 + k4)\n",
    "    Y.append(y1)\n",
    "    x0=xt\n",
    "    y0=y1\n",
    "    xt = xt + h\n",
    "  return np.round(Y, 2)\n",
    "\n",
    "result = RungeKutta('1+(y/x)', 1,0.2,2,2)\n",
    "print(result)"
   ]
  }
 ],
 "metadata": {
  "kernelspec": {
   "display_name": "Python 3",
   "language": "python",
   "name": "python3"
  },
  "language_info": {
   "codemirror_mode": {
    "name": "ipython",
    "version": 3
   },
   "file_extension": ".py",
   "mimetype": "text/x-python",
   "name": "python",
   "nbconvert_exporter": "python",
   "pygments_lexer": "ipython3",
   "version": "3.11.4"
  },
  "orig_nbformat": 4
 },
 "nbformat": 4,
 "nbformat_minor": 2
}
