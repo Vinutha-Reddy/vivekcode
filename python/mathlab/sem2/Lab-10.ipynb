{
 "cells": [
  {
   "attachments": {},
   "cell_type": "markdown",
   "metadata": {},
   "source": [
    "10.1 Apply the Runge Kutta method to find the solution of dy/dx = 1 + (y/x) at y(2) taking\n",
    "h = 0.2. Given that y(1) = 2.\n"
   ]
  },
  {
   "cell_type": "code",
   "execution_count": null,
   "metadata": {},
   "outputs": [],
   "source": [
    "from sympy import *\n",
    "import numpy as np\n",
    "def RungeKutta (g , x0 ,h , y0 , xn ):\n",
    "x,y= symbols ('x,y')\n",
    "f= lambdify ([x , y],g )\n",
    "xt=x0+h\n",
    "Y=[y0]\n",
    "while xt<=xn:\n",
    "k1=h*f ( x0 , y0 )\n",
    "k2=h*f ( x0+h/2 , y0+k1/2 )\n",
    "k3=h*f ( x0+h/2 , y0+k2/2 )\n",
    "k4=h*f ( x0+h , y0+k3 )\n",
    "y1=y0+( 1/6 )*( k1+2*k2+2*k3+k4 )\n",
    "Y . append ( y1 )\n",
    "# print ('y(%3.3f '%xt ,') is %3.3f '%y1)\n",
    "x0=xt\n",
    "y0=y1\n",
    "xt=xt+h\n",
    "return np . round (Y , 2 )\n",
    "RungeKutta ('1+(y/x)',1 , 0 .2 ,2 , 2 )"
   ]
  }
 ],
 "metadata": {
  "language_info": {
   "name": "python"
  },
  "orig_nbformat": 4
 },
 "nbformat": 4,
 "nbformat_minor": 2
}
