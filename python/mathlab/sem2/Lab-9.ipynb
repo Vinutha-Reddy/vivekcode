{
 "cells": [
  {
   "attachments": {},
   "cell_type": "markdown",
   "metadata": {},
   "source": [
    "1.  dy/dx − 2y = 3ex with y(0) = 0 using Taylor series method at x = 0.1(0.1)0.3."
   ]
  },
  {
   "cell_type": "code",
   "execution_count": 3,
   "metadata": {},
   "outputs": [
    {
     "name": "stdout",
     "output_type": "stream",
     "text": [
      "The required values are: at x=0.00, y=0.00000, x=0.10, y=0.34850, x=0.20, y=0.81079, x=0.30, y=1.41590\n"
     ]
    }
   ],
   "source": [
    "from numpy import array, zeros, exp\n",
    "\n",
    "def taylor(deriv, x, y, xStop, h):\n",
    "    X = []\n",
    "    Y = []\n",
    "    X.append(x)\n",
    "    Y.append(y)\n",
    "    while x < xStop:\n",
    "        D = deriv(x, y)\n",
    "        H = 1.0\n",
    "        for j in range(3):\n",
    "            H = H * h / (j + 1)\n",
    "            y = y + D[j] * H\n",
    "        x = x + h\n",
    "        X.append(x)\n",
    "        Y.append(y)\n",
    "    return array(X), array(Y)\n",
    "\n",
    "def deriv(x, y):\n",
    "    D = zeros((4, 1))\n",
    "    D[0] = 2 * y[0] + 3 * exp(x)\n",
    "    D[1] = 4 * y[0] + 9 * exp(x)\n",
    "    D[2] = 8 * y[0] + 21 * exp(x)\n",
    "    D[3] = 16 * y[0] + 45 * exp(x)\n",
    "    return D\n",
    "\n",
    "x = 0.0\n",
    "xStop = 0.3\n",
    "y = array([0.0])\n",
    "h = 0.1\n",
    "X, Y = taylor(deriv, x, y, xStop, h)\n",
    "\n",
    "print(\"The required values are: at x=%0.2f, y=%0.5f, x=%0.2f, y=%0.5f, x=%0.2f, y=%0.5f, x=%0.2f, y=%0.5f\" % (X[0], Y[0], X[1], Y[1], X[2], Y[2], X[3], Y[3]))\n"
   ]
  }
 ],
 "metadata": {
  "kernelspec": {
   "display_name": "Python 3",
   "language": "python",
   "name": "python3"
  },
  "language_info": {
   "codemirror_mode": {
    "name": "ipython",
    "version": 3
   },
   "file_extension": ".py",
   "mimetype": "text/x-python",
   "name": "python",
   "nbconvert_exporter": "python",
   "pygments_lexer": "ipython3",
   "version": "3.11.4"
  },
  "orig_nbformat": 4
 },
 "nbformat": 4,
 "nbformat_minor": 2
}
