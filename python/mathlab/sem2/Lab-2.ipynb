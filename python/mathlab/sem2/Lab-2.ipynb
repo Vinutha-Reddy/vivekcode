{
 "cells": [
  {
   "attachments": {},
   "cell_type": "markdown",
   "metadata": {},
   "source": [
    "1. Obtain a root of the equation x3 − 2x − 5 = 0 between 2 and 3 by regula-falsi method.\n",
    "Perform 5 iterations."
   ]
  },
  {
   "cell_type": "code",
   "execution_count": 15,
   "metadata": {},
   "outputs": [
    {
     "name": "stdout",
     "output_type": "stream",
     "text": [
      "itration 1 \t the root 2.059 \t function value -0.391 \n",
      "\n",
      "itration 2 \t the root 2.081 \t function value -0.147 \n",
      "\n",
      "itration 3 \t the root 2.090 \t function value -0.055 \n",
      "\n",
      "itration 4 \t the root 2.093 \t function value -0.020 \n",
      "\n",
      "itration 5 \t the root 2.094 \t function value -0.007 \n",
      "\n"
     ]
    }
   ],
   "source": [
    "# Regula Falsi method\n",
    "from sympy import *\n",
    "x= Symbol ('x')\n",
    "g = input ('Enter the function ') #x**3-2*x-5\n",
    "f= lambdify (x , g )\n",
    "a= float ( input ('Enter a valus :') ) #2\n",
    "b= float ( input ('Enter b valus :') ) # 3\n",
    "N=int( input ('Enter number of iterations :') ) #5\n",
    "for i in range (1 , N+1 ):\n",
    "    c=( a*f ( b )-b*f ( a ) )/( f ( b )-f ( a ) )\n",
    "    if (( f ( a )*f ( c )<0 ) ):\n",
    "        b=c\n",
    "    else :\n",
    "        a=c\n",
    "    print ('itration %d \\t the root %0.3f \\t function value %0.3f \\n'%(i ,c , f ( c ) ) )"
   ]
  },
  {
   "attachments": {},
   "cell_type": "markdown",
   "metadata": {},
   "source": [
    "2. Using tolerance value we can write the same program as follows:\n",
    "Obtain a root of the equation x3 − 2x − 5 = 0 between 2 and 3 by regula-falsi method.\n",
    "Correct to 3 decimal places."
   ]
  },
  {
   "cell_type": "code",
   "execution_count": 13,
   "metadata": {},
   "outputs": [
    {
     "name": "stdout",
     "output_type": "stream",
     "text": [
      "itration 1 \t the root 2.059 \t function value -0.391 \n",
      "\n",
      "itration 2 \t the root 2.081 \t function value -0.147 \n",
      "\n",
      "itration 3 \t the root 2.090 \t function value -0.055 \n",
      "\n",
      "itration 4 \t the root 2.093 \t function value -0.020 \n",
      "\n",
      "itration 5 \t the root 2.094 \t function value -0.007 \n",
      "\n",
      "itration 6 \t the root 2.094 \t function value -0.003 \n",
      "\n",
      "final value of the root is 2.09431 \n"
     ]
    }
   ],
   "source": [
    "# Regula Falsi method while loop2\n",
    "from sympy import *\n",
    "x= Symbol ('x')\n",
    "g = input ('Enter the function ') #%x^3-2*x-5; % function\n",
    "f= lambdify (x , g )\n",
    "a= float ( input ('Enter a valus :') ) # 2\n",
    "b= float ( input ('Enter b valus :') ) # 3\n",
    "N= float ( input ('Enter tolarence :') ) # 0.001\n",
    "x=a ;\n",
    "c=b ;\n",
    "i=0\n",
    "while (abs( x-c )>=N ):\n",
    "    x=c\n",
    "    c=(( a*f ( b )-b*f ( a ) )/( f ( b )-f ( a ) ) ) ;\n",
    "    if (( f ( a )*f ( c )<0 ) ):\n",
    "        b=c\n",
    "    else :\n",
    "        a=c\n",
    "    i=i+1\n",
    "    print ('itration %d \\t the root %0.3f \\t function value %0.3f \\n'%(i ,c , f ( c ) ) ) ;\n",
    "print ('final value of the root is %0.5f '%c )"
   ]
  },
  {
   "attachments": {},
   "cell_type": "markdown",
   "metadata": {},
   "source": [
    "3. Using tolerance value we can write the same program as follows:\n",
    "Obtain a root of the equation x3 − 2x − 5 = 0 between 2 and 3 by regula-falsi method.\n",
    "Correct to 3 decimal places."
   ]
  },
  {
   "cell_type": "code",
   "execution_count": 16,
   "metadata": {},
   "outputs": [
    {
     "name": "stdout",
     "output_type": "stream",
     "text": [
      "itration 1 \t the root 2.059 \t function value -0.391 \n",
      "\n",
      "itration 2 \t the root 2.081 \t function value -0.147 \n",
      "\n",
      "itration 3 \t the root 2.090 \t function value -0.055 \n",
      "\n",
      "itration 4 \t the root 2.093 \t function value -0.020 \n",
      "\n",
      "itration 5 \t the root 2.094 \t function value -0.007 \n",
      "\n",
      "itration 6 \t the root 2.094 \t function value -0.003 \n",
      "\n",
      "final value of the root is 2.09431 \n"
     ]
    }
   ],
   "source": [
    "# Regula Falsi method while loop2\n",
    "from sympy import *\n",
    "x= Symbol ('x')\n",
    "g = input ('Enter the function ') #%x^3-2*x-5; % function\n",
    "f= lambdify (x , g )\n",
    "a= float ( input ('Enter a valus :') ) # 2\n",
    "b= float ( input ('Enter b valus :') ) # 3\n",
    "N= float ( input ('Enter tolarence :') ) # 0.001\n",
    "x=a ;\n",
    "c=b ;\n",
    "i=0\n",
    "while (abs( x-c )>=N ):\n",
    "    x=c\n",
    "    c=(( a*f ( b )-b*f ( a ) )/( f ( b )-f ( a ) ) ) ;\n",
    "    if (( f ( a )*f ( c )<0 ) ):\n",
    "        b=c\n",
    "    else :\n",
    "        a=c\n",
    "        i=i+1\n",
    "    print ('itration %d \\t the root %0.3f \\t function value %0.3f \\n'%(i ,c , f ( c ) ) ) ;\n",
    "print ('final value of the root is %0.5f '%c )"
   ]
  }
 ],
 "metadata": {
  "kernelspec": {
   "display_name": "Python 3",
   "language": "python",
   "name": "python3"
  },
  "language_info": {
   "codemirror_mode": {
    "name": "ipython",
    "version": 3
   },
   "file_extension": ".py",
   "mimetype": "text/x-python",
   "name": "python",
   "nbconvert_exporter": "python",
   "pygments_lexer": "ipython3",
   "version": "3.11.4"
  },
  "orig_nbformat": 4
 },
 "nbformat": 4,
 "nbformat_minor": 2
}
