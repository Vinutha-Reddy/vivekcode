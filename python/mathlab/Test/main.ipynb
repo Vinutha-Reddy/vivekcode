{
 "cells": [
  {
   "cell_type": "code",
   "execution_count": 3,
   "id": "dde5424e-70b1-4893-ab00-cb351bc4e5db",
   "metadata": {},
   "outputs": [],
   "source": [
    "import numpy as np\n",
    "import pandas as pd\n",
    "import matplotlib.pyplot as plt\n",
    "\n",
    "data = pd.read_csv(\"train.csv\")"
   ]
  },
  {
   "cell_type": "code",
   "execution_count": 4,
   "id": "1aadc0ef-ac35-4d84-a43c-be61cc735306",
   "metadata": {},
   "outputs": [],
   "source": [
    "data = np.array(data)\n",
    "m, n = data.shape\n",
    "np.random.shuffle(data)"
   ]
  },
  {
   "cell_type": "code",
   "execution_count": 5,
   "id": "c538e6ec-370d-40d8-8060-90fe3073a248",
   "metadata": {},
   "outputs": [
    {
     "name": "stdout",
     "output_type": "stream",
     "text": [
      "[[9 0 0 ... 0 0 0]\n",
      " [9 0 0 ... 0 0 0]\n",
      " [2 0 0 ... 0 0 0]\n",
      " ...\n",
      " [1 0 0 ... 0 0 0]\n",
      " [6 0 0 ... 0 0 0]\n",
      " [4 0 0 ... 0 0 0]]\n"
     ]
    }
   ],
   "source": [
    "print(data)"
   ]
  },
  {
   "cell_type": "code",
   "execution_count": 6,
   "id": "ce445be9-75ee-49aa-9109-6e97a07b3822",
   "metadata": {},
   "outputs": [
    {
     "name": "stdout",
     "output_type": "stream",
     "text": [
      "[  2   0   0   0   0   0   0   0   0   0   0   0   0   0   0   0   0   0\n",
      "   0   0   0   0   0   0   0   0   0   0   0   0   0   0   0   0   0   0\n",
      "   0   0   0   0   0   0   0   0   0   0   0   0   0   0   0   0   0   0\n",
      "   0   0   0   0   0   0   0   0   0   0   0   0   0   0   0   0   0   0\n",
      "   0   0   0   0   0   0   0   0   0   0   0   0   0   0   0   0   0   0\n",
      "   0   0   0   0   0   0   0   0   0   0   0   0   0   0   0   0   0   0\n",
      "   0   0   0   0   0   0   0   0   0   0   0   0   0   0 169 255 253 198\n",
      "  85  86  28   0   0   0   0   0   0   0   0   0   0   0   0   0   0   0\n",
      "   0   0   0   0   0  57 224 253 251 253 251 253 196   0   0   0   0   0\n",
      "   0   0   0   0   0   0   0   0   0   0   0   0   0   0   0  85 253 254\n",
      " 253 254 253 254 253 254  84   0   0   0   0   0   0   0   0   0   0   0\n",
      "   0   0   0   0   0   0   0  28  83  84 196 253 251 253 251 253 196   0\n",
      "   0   0   0   0   0   0   0   0   0   0   0   0   0   0   0   0   0   0\n",
      "   0   0   0   0 169 254 253 254 253   0   0   0   0   0   0   0   0   0\n",
      "   0   0   0   0   0   0   0   0   0   0   0   0   0   0  56 253 251 253\n",
      " 251 114   0   0   0   0   0   0   0   0   0   0   0   0   0   0   0   0\n",
      "   0   0   0   0   0   0   0  57 225 254 253 169   0   0   0   0   0   0\n",
      "   0   0   0   0   0   0   0   0   0   0   0   0   0   0   0   0   0   0\n",
      " 168 253 251 225  56   0   0   0   0   0   0   0   0   0   0   0   0   0\n",
      "   0   0   0   0   0   0   0   0   0   0 169 254 253 226  56   0   0   0\n",
      "   0   0   0   0   0   0   0   0   0   0   0   0   0   0   0   0   0   0\n",
      "   0   0 168 253 251 168   0   0   0   0   0   0   0   0   0   0   0   0\n",
      "   0   0   0   0   0   0   0  29  85 254 253 254 253 254 253 169   0   0\n",
      "   0   0   0   0   0   0   0   0   0   0   0   0   0   0   0   0 114 197\n",
      " 251 253 251 253 251 253 251 168   0   0   0   0   0   0   0   0   0   0\n",
      "   0   0   0   0   0   0   0  29 197 254 253 254 253 254 253 254 253 198\n",
      "  28   0   0   0   0   0   0   0   0   0   0   0   0   0   0   0   0  85\n",
      " 251 253 251 196  83 253 251 253 251 253 196   0   0   0   0   0   0   0\n",
      "   0   0   0   0   0   0   0   0   0 254 253 254 196   0   0 141 253 254\n",
      " 253 254 253 254 139   0   0   0   0   0   0   0   0   0   0   0   0   0\n",
      "   0 253 251 253  83   0   0 253 251 253 251 253 251 253 251 114   0   0\n",
      "   0   0   0   0   0   0   0   0   0   0   0 198 253 254 253  57 169 254\n",
      " 253 254 196 198 253 254 253 169   0   0   0   0   0   0   0   0   0   0\n",
      "   0   0   0  85 251 253 251 225 224 253 251 196  28  28  83 139 251 225\n",
      "  56   0   0   0   0   0   0   0   0   0   0   0   0   0   0  57 225 254\n",
      " 253 254 196   0   0   0   0   0   0 114   0   0   0   0   0   0   0   0\n",
      "   0   0   0   0   0   0   0   0  56 139 251  84  28   0   0   0   0   0\n",
      "   0   0   0   0   0   0   0   0   0   0   0   0   0   0   0   0   0   0\n",
      "   0   0   0   0   0   0   0   0   0   0   0   0   0   0   0   0   0   0\n",
      "   0   0   0   0   0   0   0   0   0   0   0   0   0   0   0   0   0   0\n",
      "   0   0   0   0   0   0   0   0   0   0   0   0   0   0   0   0   0   0\n",
      "   0   0   0   0   0   0   0   0   0   0   0   0   0   0   0   0   0   0\n",
      "   0   0   0   0   0   0   0   0   0   0   0   0   0   0   0   0   0   0\n",
      "   0   0   0   0   0   0   0   0   0   0   0]\n"
     ]
    }
   ],
   "source": [
    "print(data[2])"
   ]
  },
  {
   "cell_type": "code",
   "execution_count": 7,
   "id": "80279974-7ea2-46e3-9971-182b931c55ac",
   "metadata": {},
   "outputs": [
    {
     "name": "stdout",
     "output_type": "stream",
     "text": [
      "label= 5\n"
     ]
    },
    {
     "data": {
      "image/png": "[encoded data removed]",
      "text/plain": [
       "<Figure size 640x480 with 1 Axes>"
      ]
     },
     "metadata": {},
     "output_type": "display_data"
    }
   ],
   "source": [
    "image = data[100][1:].reshape((28,28))\n",
    "print(\"label=\", data[100][0])\n",
    "plt.imshow(image, interpolation='nearest')\n",
    "plt.show()"
   ]
  },
  {
   "cell_type": "code",
   "execution_count": 8,
   "id": "4182904f-84b3-47d9-9732-1edb15cc136f",
   "metadata": {},
   "outputs": [
    {
     "name": "stdout",
     "output_type": "stream",
     "text": [
      "(42000, 785)\n"
     ]
    }
   ],
   "source": [
    "print(data.shape)\n",
    "m, n = data.shape"
   ]
  },
  {
   "cell_type": "code",
   "execution_count": 9,
   "id": "6423c915-5a13-4d5d-b73f-ea6b24287c57",
   "metadata": {},
   "outputs": [
    {
     "name": "stdout",
     "output_type": "stream",
     "text": [
      "[[9 9 2 ... 9 4 0]\n",
      " [0 0 0 ... 0 0 0]\n",
      " [0 0 0 ... 0 0 0]\n",
      " ...\n",
      " [0 0 0 ... 0 0 0]\n",
      " [0 0 0 ... 0 0 0]\n",
      " [0 0 0 ... 0 0 0]]\n"
     ]
    }
   ],
   "source": [
    "data_dev = data[0:1000].T\n",
    "print(data_dev)"
   ]
  },
  {
   "cell_type": "code",
   "execution_count": 10,
   "id": "682480ca-715d-4821-bac6-8b03fac82bc4",
   "metadata": {},
   "outputs": [
    {
     "name": "stdout",
     "output_type": "stream",
     "text": [
      "[9 9 2 4 1 8 9 8 9 0 7 9 1 0 7 4 5 6 9 1 6 9 3 6 0 2 6 4 4 7 8 7 2 8 0 2 7\n",
      " 9 4 5 8 3 7 9 3 2 9 0 4 2 7 2 6 9 2 9 9 9 2 4 7 3 2 7 2 2 7 4 8 4 6 6 5 8\n",
      " 2 8 1 7 5 2 1 5 4 7 3 4 9 9 7 6 9 3 5 1 1 9 5 8 3 7 5 1 0 0 1 3 9 8 3 6 8\n",
      " 4 8 8 3 8 1 0 4 0 3 8 1 5 9 3 5 2 3 9 5 3 7 5 6 4 5 0 3 3 7 5 3 6 9 3 6 6\n",
      " 8 3 1 5 0 1 3 8 4 3 6 9 9 5 4 7 6 2 3 5 4 6 0 6 0 5 2 0 0 4 8 1 9 5 2 6 3\n",
      " 2 6 8 2 0 8 8 8 7 3 7 9 0 3 0 7 2 8 1 9 7 0 6 2 0 6 3 6 4 0 3 4 3 0 0 6 5\n",
      " 1 2 5 1 4 4 7 8 7 2 3 2 6 9 7 1 9 5 7 7 8 6 0 6 2 6 0 4 4 6 0 2 5 2 2 1 3\n",
      " 7 4 0 4 2 2 3 5 2 2 3 6 6 2 2 1 1 7 8 4 1 7 0 6 3 5 1 0 5 1 3 3 4 5 6 1 1\n",
      " 1 8 0 6 9 4 8 7 9 1 0 3 5 3 3 6 2 1 0 3 4 0 1 9 0 0 3 0 7 0 8 2 1 4 5 9 2\n",
      " 0 6 6 3 8 1 4 2 8 3 5 2 5 1 7 9 6 7 5 0 8 5 3 1 1 6 6 9 4 4 1 9 6 1 6 4 0\n",
      " 3 2 8 0 1 7 3 0 8 8 2 4 5 0 2 7 2 7 3 1 7 2 8 5 4 8 6 0 4 4 6 9 9 9 6 5 3\n",
      " 7 4 7 1 2 3 9 4 4 1 5 9 5 6 1 7 2 1 7 9 1 9 7 3 6 3 1 5 5 9 7 2 7 7 0 7 8\n",
      " 4 1 4 0 2 9 5 6 6 9 7 4 8 4 2 0 9 8 1 4 8 6 7 8 3 3 7 7 9 7 4 2 1 3 8 4 0\n",
      " 0 1 9 3 0 1 5 1 3 5 9 4 7 2 6 1 8 0 8 0 8 9 2 2 9 0 3 4 9 6 9 7 2 7 2 0 6\n",
      " 3 4 7 8 7 8 0 7 3 7 5 1 6 9 6 9 1 7 8 6 3 8 8 0 3 9 5 7 6 8 1 8 1 1 0 3 8\n",
      " 3 7 3 4 4 1 5 2 8 1 5 1 7 4 0 8 2 3 6 6 1 8 1 4 7 4 5 2 7 1 0 2 4 7 6 1 9\n",
      " 3 2 6 9 8 6 1 9 4 1 6 5 3 4 6 0 1 4 2 3 7 7 1 1 4 7 8 0 4 6 4 6 4 1 6 3 3\n",
      " 3 0 1 8 0 8 7 6 2 0 0 6 5 2 7 7 9 9 5 7 7 4 9 3 0 3 8 0 5 5 6 9 7 0 1 9 9\n",
      " 7 8 4 5 2 7 4 0 4 7 7 8 7 2 2 8 7 4 9 4 5 6 1 2 8 0 1 5 8 8 6 2 2 4 4 9 7\n",
      " 9 9 0 0 3 7 7 0 6 5 8 0 2 5 4 0 2 6 4 5 2 7 8 8 0 1 7 8 0 6 5 5 1 9 5 3 0\n",
      " 8 2 5 9 9 3 9 0 4 7 0 0 0 2 3 8 6 0 7 8 6 1 7 3 2 7 8 7 9 1 2 3 9 2 2 8 2\n",
      " 8 7 4 0 0 1 4 0 0 7 9 0 4 5 6 6 8 5 2 8 1 0 4 0 4 3 8 4 2 6 6 4 0 6 3 6 5\n",
      " 4 1 6 6 1 0 5 2 2 5 4 7 9 9 3 8 5 7 6 4 6 0 8 2 6 4 1 9 2 7 4 1 4 5 4 1 7\n",
      " 4 9 0 3 0 2 0 5 1 5 8 4 4 8 2 3 5 3 2 8 4 9 4 7 6 3 4 9 5 6 0 9 8 4 3 8 7\n",
      " 8 4 6 9 3 4 3 0 7 6 1 5 6 6 1 3 1 3 7 1 3 4 3 9 4 0 1 7 0 0 7 5 4 5 5 4 2\n",
      " 9 8 4 4 1 4 3 0 0 6 1 2 2 1 4 1 3 3 4 1 4 2 6 1 1 6 6 8 1 3 3 4 6 9 2 3 5\n",
      " 4 7 3 6 1 0 7 1 8 4 8 4 6 2 2 9 7 4 6 4 9 3 7 2 5 9 1 1 6 2 0 0 2 7 4 9 4\n",
      " 0]\n"
     ]
    }
   ],
   "source": [
    "Y_dev = data_dev[0]\n",
    "print(Y_dev)"
   ]
  },
  {
   "cell_type": "code",
   "execution_count": 11,
   "id": "e5c4bcc7-ec52-4cd7-8516-261ecce9f54e",
   "metadata": {},
   "outputs": [
    {
     "name": "stdout",
     "output_type": "stream",
     "text": [
      "[[0 0 0 ... 0 0 0]\n",
      " [0 0 0 ... 0 0 0]\n",
      " [0 0 0 ... 0 0 0]\n",
      " ...\n",
      " [0 0 0 ... 0 0 0]\n",
      " [0 0 0 ... 0 0 0]\n",
      " [0 0 0 ... 0 0 0]]\n"
     ]
    }
   ],
   "source": [
    "X_dev = data_dev[1:n]\n",
    "print(X_dev)"
   ]
  },
  {
   "cell_type": "code",
   "execution_count": 12,
   "id": "990129c7-829e-4e3d-a820-d533ccaf8187",
   "metadata": {},
   "outputs": [],
   "source": [
    "X_dev = X_dev / 255."
   ]
  },
  {
   "cell_type": "code",
   "execution_count": 13,
   "id": "36ac6bf8-84bf-423a-8bee-734025c92deb",
   "metadata": {},
   "outputs": [],
   "source": [
    "data_train = data[1000:m].T\n",
    "Y_train = data_train[0]\n",
    "X_train = data_train[1:n]\n",
    "X_train = X_train / 255."
   ]
  },
  {
   "cell_type": "code",
   "execution_count": 14,
   "id": "f1c21476-7498-4030-822b-164597c8ffe3",
   "metadata": {},
   "outputs": [],
   "source": [
    "_,m_train = X_train.shape"
   ]
  },
  {
   "cell_type": "code",
   "execution_count": 15,
   "id": "d1d4602f-33d6-4d9a-a61c-5a27c8b1c69b",
   "metadata": {},
   "outputs": [],
   "source": [
    "def init_params():\n",
    "    W1 = np.random.rand(10, 784) - 0.5\n",
    "    b1 = np.random.rand(10, 1) - 0.5\n",
    "    W2 = np.random.rand(10, 10) - 0.5\n",
    "    b2 = np.random.rand(10, 1) - 0.5\n",
    "    return W1, b1, W2, b2\n",
    "\n",
    "def ReLU(Z):\n",
    "    return np.maximum(Z, 0)\n",
    "\n",
    "def softmax(Z):\n",
    "    A = np.exp(Z) / sum(np.exp(Z))\n",
    "    return A\n",
    "\n",
    "def forward_prop(W1, b1, W2, b2, X):\n",
    "    Z1 = W1.dot(X) + b1\n",
    "    A1 = ReLU(Z1)\n",
    "    Z2 = W2.dot(A1) + b2\n",
    "    A2 = softmax(Z2)\n",
    "    return Z1, A1, Z2, A2\n",
    "\n",
    "def ReLU_deriv(Z):\n",
    "    return Z > 0\n",
    "\n",
    "def one_hot(Y):\n",
    "    one_hot_Y = np.zeros((Y.size, Y.max() + 1))\n",
    "    one_hot_Y[np.arange(Y.size), Y] = 1\n",
    "    one_hot_Y = one_hot_Y.T\n",
    "    return one_hot_Y\n",
    "\n",
    "def backward_prop(Z1, A1, Z2, A2, W1, W2, X, Y):\n",
    "    one_hot_Y = one_hot(Y)\n",
    "    dZ2 = A2 - one_hot_Y\n",
    "    dW2 = 1 / m * dZ2.dot(A1.T)\n",
    "    db2 = 1 / m * np.sum(dZ2)\n",
    "    dZ1 = W2.T.dot(dZ2) * ReLU_deriv(Z1)\n",
    "    dW1 = 1 / m * dZ1.dot(X.T)\n",
    "    db1 = 1 / m * np.sum(dZ1)\n",
    "    return dW1, db1, dW2, db2\n",
    "\n",
    "def update_params(W1, b1, W2, b2, dW1, db1, dW2, db2, alpha):\n",
    "    W1 = W1 - alpha * dW1\n",
    "    b1 = b1 - alpha * db1    \n",
    "    W2 = W2 - alpha * dW2  \n",
    "    b2 = b2 - alpha * db2    \n",
    "    return W1, b1, W2, b2\n",
    "\n"
   ]
  },
  {
   "cell_type": "code",
   "execution_count": 16,
   "id": "de5f8cad-86a5-4764-9e45-d047602d842c",
   "metadata": {},
   "outputs": [],
   "source": [
    "def get_predictions(A2):\n",
    "    return np.argmax(A2, 0)\n",
    "\n",
    "def get_accuracy(predictions, Y):\n",
    "    print(predictions, Y)\n",
    "    return np.sum(predictions == Y) / Y.size\n",
    "\n",
    "def gradient_descent(X, Y, alpha, iterations):\n",
    "    W1, b1, W2, b2 = init_params()\n",
    "    for i in range(iterations):\n",
    "        Z1, A1, Z2, A2 = forward_prop(W1, b1, W2, b2, X)\n",
    "        dW1, db1, dW2, db2 = backward_prop(Z1, A1, Z2, A2, W1, W2, X, Y)\n",
    "        W1, b1, W2, b2 = update_params(W1, b1, W2, b2, dW1, db1, dW2, db2, alpha)\n",
    "        if i % 10 == 0:\n",
    "            print(\"Iteration: \", i)\n",
    "            predictions = get_predictions(A2)\n",
    "            print(get_accuracy(predictions, Y))\n",
    "    return W1, b1, W2, b2"
   ]
  },
  {
   "cell_type": "code",
   "execution_count": 17,
   "id": "be650531-4c16-4742-8de3-8219c79320ed",
   "metadata": {},
   "outputs": [
    {
     "name": "stdout",
     "output_type": "stream",
     "text": [
      "Iteration:  0\n",
      "[3 7 9 ... 1 7 7] [7 7 4 ... 1 6 4]\n",
      "0.15014634146341463\n",
      "Iteration:  10\n",
      "[3 1 9 ... 6 6 7] [7 7 4 ... 1 6 4]\n",
      "0.21395121951219512\n",
      "Iteration:  20\n",
      "[3 1 9 ... 1 6 6] [7 7 4 ... 1 6 4]\n",
      "0.2932439024390244\n",
      "Iteration:  30\n",
      "[4 7 9 ... 1 6 6] [7 7 4 ... 1 6 4]\n",
      "0.36973170731707317\n",
      "Iteration:  40\n",
      "[4 7 1 ... 1 6 4] [7 7 4 ... 1 6 4]\n",
      "0.4265121951219512\n",
      "Iteration:  50\n",
      "[4 7 1 ... 1 6 4] [7 7 4 ... 1 6 4]\n",
      "0.47373170731707315\n",
      "Iteration:  60\n",
      "[4 7 1 ... 1 6 4] [7 7 4 ... 1 6 4]\n",
      "0.520609756097561\n",
      "Iteration:  70\n",
      "[4 7 9 ... 1 6 4] [7 7 4 ... 1 6 4]\n",
      "0.5648048780487804\n",
      "Iteration:  80\n",
      "[4 7 9 ... 1 6 4] [7 7 4 ... 1 6 4]\n",
      "0.5989512195121951\n",
      "Iteration:  90\n",
      "[7 7 9 ... 1 6 4] [7 7 4 ... 1 6 4]\n",
      "0.6259756097560976\n",
      "Iteration:  100\n",
      "[7 7 9 ... 1 6 4] [7 7 4 ... 1 6 4]\n",
      "0.648609756097561\n",
      "Iteration:  110\n",
      "[7 7 9 ... 1 6 4] [7 7 4 ... 1 6 4]\n",
      "0.6665121951219513\n",
      "Iteration:  120\n",
      "[7 7 9 ... 1 6 4] [7 7 4 ... 1 6 4]\n",
      "0.6814146341463415\n",
      "Iteration:  130\n",
      "[7 7 9 ... 1 6 4] [7 7 4 ... 1 6 4]\n",
      "0.695170731707317\n",
      "Iteration:  140\n",
      "[7 7 9 ... 1 6 4] [7 7 4 ... 1 6 4]\n",
      "0.7063414634146341\n",
      "Iteration:  150\n",
      "[7 7 9 ... 1 6 4] [7 7 4 ... 1 6 4]\n",
      "0.7159268292682927\n",
      "Iteration:  160\n",
      "[7 7 9 ... 1 6 4] [7 7 4 ... 1 6 4]\n",
      "0.7253414634146341\n",
      "Iteration:  170\n",
      "[7 7 9 ... 1 6 4] [7 7 4 ... 1 6 4]\n",
      "0.7328536585365854\n",
      "Iteration:  180\n",
      "[7 7 9 ... 1 6 4] [7 7 4 ... 1 6 4]\n",
      "0.7405609756097561\n",
      "Iteration:  190\n",
      "[7 7 9 ... 1 6 4] [7 7 4 ... 1 6 4]\n",
      "0.746219512195122\n",
      "Iteration:  200\n",
      "[7 7 9 ... 1 6 4] [7 7 4 ... 1 6 4]\n",
      "0.7532682926829268\n",
      "Iteration:  210\n",
      "[7 7 9 ... 1 6 4] [7 7 4 ... 1 6 4]\n",
      "0.7593414634146342\n",
      "Iteration:  220\n",
      "[7 7 9 ... 1 6 4] [7 7 4 ... 1 6 4]\n",
      "0.7642926829268293\n",
      "Iteration:  230\n",
      "[7 7 9 ... 1 6 4] [7 7 4 ... 1 6 4]\n",
      "0.7691463414634147\n",
      "Iteration:  240\n",
      "[7 7 9 ... 1 6 4] [7 7 4 ... 1 6 4]\n",
      "0.7743658536585366\n",
      "Iteration:  250\n",
      "[7 7 9 ... 1 6 4] [7 7 4 ... 1 6 4]\n",
      "0.7789756097560976\n",
      "Iteration:  260\n",
      "[7 7 9 ... 1 6 4] [7 7 4 ... 1 6 4]\n",
      "0.7832926829268293\n",
      "Iteration:  270\n",
      "[7 7 9 ... 1 6 4] [7 7 4 ... 1 6 4]\n",
      "0.7872439024390244\n",
      "Iteration:  280\n",
      "[7 7 9 ... 1 6 4] [7 7 4 ... 1 6 4]\n",
      "0.7911219512195122\n",
      "Iteration:  290\n",
      "[7 7 9 ... 1 6 4] [7 7 4 ... 1 6 4]\n",
      "0.7955853658536586\n",
      "Iteration:  300\n",
      "[7 7 9 ... 1 6 4] [7 7 4 ... 1 6 4]\n",
      "0.7990487804878049\n",
      "Iteration:  310\n",
      "[7 7 9 ... 1 6 4] [7 7 4 ... 1 6 4]\n",
      "0.8020487804878049\n",
      "Iteration:  320\n",
      "[7 7 9 ... 1 6 4] [7 7 4 ... 1 6 4]\n",
      "0.8055853658536586\n",
      "Iteration:  330\n",
      "[7 7 9 ... 1 6 4] [7 7 4 ... 1 6 4]\n",
      "0.8096341463414635\n",
      "Iteration:  340\n",
      "[7 7 9 ... 1 6 4] [7 7 4 ... 1 6 4]\n",
      "0.8127073170731707\n",
      "Iteration:  350\n",
      "[7 7 9 ... 1 6 4] [7 7 4 ... 1 6 4]\n",
      "0.816\n",
      "Iteration:  360\n",
      "[7 7 9 ... 1 6 4] [7 7 4 ... 1 6 4]\n",
      "0.8194634146341463\n",
      "Iteration:  370\n",
      "[7 7 9 ... 1 6 4] [7 7 4 ... 1 6 4]\n",
      "0.8227073170731707\n",
      "Iteration:  380\n",
      "[7 7 9 ... 1 6 4] [7 7 4 ... 1 6 4]\n",
      "0.8249024390243902\n",
      "Iteration:  390\n",
      "[7 7 9 ... 1 6 4] [7 7 4 ... 1 6 4]\n",
      "0.8269024390243902\n",
      "Iteration:  400\n",
      "[7 7 9 ... 1 6 4] [7 7 4 ... 1 6 4]\n",
      "0.8291463414634146\n",
      "Iteration:  410\n",
      "[7 7 9 ... 1 6 4] [7 7 4 ... 1 6 4]\n",
      "0.8312682926829268\n",
      "Iteration:  420\n",
      "[7 7 9 ... 1 6 4] [7 7 4 ... 1 6 4]\n",
      "0.8335853658536585\n",
      "Iteration:  430\n",
      "[7 7 9 ... 1 6 4] [7 7 4 ... 1 6 4]\n",
      "0.835780487804878\n",
      "Iteration:  440\n",
      "[7 7 9 ... 1 6 4] [7 7 4 ... 1 6 4]\n",
      "0.8376829268292683\n",
      "Iteration:  450\n",
      "[7 7 9 ... 1 6 4] [7 7 4 ... 1 6 4]\n",
      "0.8396341463414634\n",
      "Iteration:  460\n",
      "[7 7 9 ... 1 6 4] [7 7 4 ... 1 6 4]\n",
      "0.8414390243902439\n",
      "Iteration:  470\n",
      "[7 7 9 ... 1 6 4] [7 7 4 ... 1 6 4]\n",
      "0.8428292682926829\n",
      "Iteration:  480\n",
      "[7 7 9 ... 1 6 4] [7 7 4 ... 1 6 4]\n",
      "0.8443658536585366\n",
      "Iteration:  490\n",
      "[7 7 9 ... 1 6 4] [7 7 4 ... 1 6 4]\n",
      "0.8461951219512195\n"
     ]
    }
   ],
   "source": [
    "W1, b1, W2, b2 = gradient_descent(X_train, Y_train, 0.10, 500)"
   ]
  },
  {
   "cell_type": "code",
   "execution_count": 18,
   "id": "c7acb4dc-22c3-4f25-968f-b1008b0bbfd0",
   "metadata": {},
   "outputs": [],
   "source": [
    "def make_predictions(X, W1, b1, W2, b2):\n",
    "    _, _, _, A2 = forward_prop(W1, b1, W2, b2, X)\n",
    "    predictions = get_predictions(A2)\n",
    "    return predictions\n",
    "\n",
    "def test_prediction(index, W1, b1, W2, b2):\n",
    "    current_image = X_train[:, index, None]\n",
    "    prediction = make_predictions(X_train[:, index, None], W1, b1, W2, b2)\n",
    "    label = Y_train[index]\n",
    "    print(\"Prediction: \", prediction)\n",
    "    print(\"Label: \", label)\n",
    "    current_image = current_image.reshape((28, 28)) * 255\n",
    "    plt.imshow(current_image, interpolation='nearest')\n",
    "    plt.show()"
   ]
  },
  {
   "cell_type": "code",
   "execution_count": 19,
   "id": "efe5edb8-752f-4f4b-bdc0-c1af308d0e6c",
   "metadata": {},
   "outputs": [
    {
     "name": "stdout",
     "output_type": "stream",
     "text": [
      "Prediction:  [6]\n",
      "Label:  2\n"
     ]
    },
    {
     "data": {
      "image/png": "[encoded data removed]",
      "text/plain": [
       "<Figure size 640x480 with 1 Axes>"
      ]
     },
     "metadata": {},
     "output_type": "display_data"
    },
    {
     "name": "stdout",
     "output_type": "stream",
     "text": [
      "Prediction:  [7]\n",
      "Label:  7\n"
     ]
    },
    {
     "data": {
      "image/png": "[encoded data removed]",
      "text/plain": [
       "<Figure size 640x480 with 1 Axes>"
      ]
     },
     "metadata": {},
     "output_type": "display_data"
    },
    {
     "name": "stdout",
     "output_type": "stream",
     "text": [
      "Prediction:  [9]\n",
      "Label:  9\n"
     ]
    },
    {
     "data": {
      "image/png": "[encoded data removed]",
      "text/plain": [
       "<Figure size 640x480 with 1 Axes>"
      ]
     },
     "metadata": {},
     "output_type": "display_data"
    },
    {
     "name": "stdout",
     "output_type": "stream",
     "text": [
      "Prediction:  [7]\n",
      "Label:  7\n"
     ]
    },
    {
     "data": {
      "image/png": "[encoded data removed]",
      "text/plain": [
       "<Figure size 640x480 with 1 Axes>"
      ]
     },
     "metadata": {},
     "output_type": "display_data"
    }
   ],
   "source": [
    "test_prediction(7, W1, b1, W2, b2)\n",
    "test_prediction(9, W1, b1, W2, b2)\n",
    "test_prediction(89, W1, b1, W2, b2)\n",
    "test_prediction(24, W1, b1, W2, b2)"
   ]
  },
  {
   "cell_type": "code",
   "execution_count": 20,
   "id": "44ae50cf-73f0-4481-900b-45ff6885a6a1",
   "metadata": {},
   "outputs": [
    {
     "name": "stdout",
     "output_type": "stream",
     "text": [
      "[9 9 2 4 1 8 9 8 9 0 7 9 1 0 7 4 5 6 9 1 6 9 3 6 0 2 6 4 4 7 8 7 0 8 0 2 7\n",
      " 9 4 5 8 2 7 9 3 2 9 0 4 2 7 7 6 9 4 9 2 9 2 4 7 5 2 7 2 2 9 4 8 4 6 6 5 3\n",
      " 2 8 1 7 5 2 1 5 4 4 3 4 9 4 7 0 9 3 5 1 1 9 5 8 3 7 5 1 0 0 1 3 9 8 3 6 3\n",
      " 4 8 9 8 8 1 0 4 0 3 8 1 7 4 3 5 2 3 0 5 7 7 4 6 4 5 0 3 3 8 5 3 6 9 3 6 2\n",
      " 8 3 1 5 0 1 3 8 4 3 6 9 9 5 4 9 6 8 3 5 4 6 2 6 0 8 6 0 0 4 8 1 9 5 2 6 5\n",
      " 2 6 8 9 0 5 8 8 7 3 4 9 0 3 0 7 3 8 3 9 7 0 6 2 0 2 3 4 4 0 3 4 3 0 0 5 5\n",
      " 1 5 5 1 4 4 2 6 7 2 5 3 6 9 7 1 9 5 4 2 8 6 0 8 2 6 0 9 4 6 0 2 5 2 2 1 8\n",
      " 7 0 0 4 2 3 3 5 0 6 3 6 6 2 6 1 1 7 8 4 1 7 0 6 3 2 1 7 3 1 3 3 4 3 6 1 1\n",
      " 1 8 0 6 9 4 8 7 9 1 0 3 5 3 3 6 2 1 0 3 4 0 1 9 0 0 3 0 7 0 8 6 1 4 5 9 2\n",
      " 3 6 6 3 8 1 4 2 8 3 5 2 5 1 7 9 6 7 5 0 8 5 3 1 1 6 6 9 9 4 1 9 6 1 6 4 0\n",
      " 3 2 8 0 1 7 3 0 2 8 2 9 5 0 2 7 2 7 3 1 9 2 8 5 4 8 6 0 4 4 6 9 9 4 6 5 3\n",
      " 7 4 7 1 2 3 9 6 4 1 3 9 3 6 1 7 2 1 7 7 1 9 4 3 6 3 1 4 5 9 7 2 4 7 5 7 2\n",
      " 0 1 4 0 2 9 8 5 6 9 7 4 1 4 2 0 9 5 1 4 8 6 2 8 8 3 7 7 0 7 4 2 8 3 8 4 0\n",
      " 0 1 9 3 0 1 0 1 3 0 9 4 7 2 5 1 5 0 3 0 8 9 2 2 9 0 3 4 9 0 9 1 2 7 3 0 6\n",
      " 3 4 7 8 7 8 0 7 3 9 5 1 6 9 6 9 1 7 8 6 3 8 8 0 3 9 2 3 6 8 1 1 1 5 5 3 8\n",
      " 3 7 3 4 4 1 5 9 8 1 5 1 9 9 0 8 8 5 6 6 1 2 1 4 7 4 5 2 7 1 0 2 4 7 6 1 9\n",
      " 3 2 6 9 8 6 1 9 4 1 6 5 3 4 6 0 1 4 2 3 7 7 1 1 4 7 8 0 9 6 4 6 4 1 6 3 3\n",
      " 3 0 1 8 0 8 7 2 7 0 0 6 5 2 7 7 9 9 5 7 7 6 9 3 0 3 8 0 5 5 6 9 7 0 1 9 9\n",
      " 7 2 4 5 2 7 9 0 4 7 7 8 7 2 4 8 7 4 9 8 2 6 1 7 8 0 1 4 8 8 6 3 2 4 4 9 7\n",
      " 9 7 0 0 3 7 7 0 6 5 8 0 2 5 4 0 0 6 4 5 2 7 8 8 0 1 9 3 4 6 5 3 1 9 5 3 0\n",
      " 8 2 5 9 0 3 8 0 4 7 0 0 0 2 3 8 6 7 7 8 6 1 7 3 2 7 4 8 9 2 2 3 9 6 2 2 2\n",
      " 8 7 4 0 0 1 6 0 0 7 9 0 4 3 6 0 8 3 2 8 1 0 4 0 4 3 8 4 2 0 6 2 0 2 3 6 6\n",
      " 4 1 6 6 1 0 5 6 2 5 4 7 9 9 3 8 3 9 6 4 1 0 6 2 6 4 1 9 2 7 4 1 4 5 4 1 7\n",
      " 4 4 6 3 0 2 0 8 1 5 8 4 4 8 2 3 8 9 2 8 4 5 4 7 6 3 4 9 2 6 0 7 5 4 3 8 7\n",
      " 8 4 6 9 3 4 2 0 7 1 1 5 6 6 8 3 1 3 7 1 3 4 3 9 9 0 1 7 2 0 7 2 4 5 5 4 2\n",
      " 9 9 4 9 1 4 3 0 0 6 1 2 3 6 4 1 3 3 4 1 4 2 0 1 1 4 6 8 1 5 3 4 6 9 2 7 5\n",
      " 4 7 9 6 1 0 7 1 8 4 8 4 6 2 2 9 7 4 6 6 9 3 7 2 6 9 1 1 6 2 0 0 2 7 4 9 4\n",
      " 0] [9 9 2 4 1 8 9 8 9 0 7 9 1 0 7 4 5 6 9 1 6 9 3 6 0 2 6 4 4 7 8 7 2 8 0 2 7\n",
      " 9 4 5 8 3 7 9 3 2 9 0 4 2 7 2 6 9 2 9 9 9 2 4 7 3 2 7 2 2 7 4 8 4 6 6 5 8\n",
      " 2 8 1 7 5 2 1 5 4 7 3 4 9 9 7 6 9 3 5 1 1 9 5 8 3 7 5 1 0 0 1 3 9 8 3 6 8\n",
      " 4 8 8 3 8 1 0 4 0 3 8 1 5 9 3 5 2 3 9 5 3 7 5 6 4 5 0 3 3 7 5 3 6 9 3 6 6\n",
      " 8 3 1 5 0 1 3 8 4 3 6 9 9 5 4 7 6 2 3 5 4 6 0 6 0 5 2 0 0 4 8 1 9 5 2 6 3\n",
      " 2 6 8 2 0 8 8 8 7 3 7 9 0 3 0 7 2 8 1 9 7 0 6 2 0 6 3 6 4 0 3 4 3 0 0 6 5\n",
      " 1 2 5 1 4 4 7 8 7 2 3 2 6 9 7 1 9 5 7 7 8 6 0 6 2 6 0 4 4 6 0 2 5 2 2 1 3\n",
      " 7 4 0 4 2 2 3 5 2 2 3 6 6 2 2 1 1 7 8 4 1 7 0 6 3 5 1 0 5 1 3 3 4 5 6 1 1\n",
      " 1 8 0 6 9 4 8 7 9 1 0 3 5 3 3 6 2 1 0 3 4 0 1 9 0 0 3 0 7 0 8 2 1 4 5 9 2\n",
      " 0 6 6 3 8 1 4 2 8 3 5 2 5 1 7 9 6 7 5 0 8 5 3 1 1 6 6 9 4 4 1 9 6 1 6 4 0\n",
      " 3 2 8 0 1 7 3 0 8 8 2 4 5 0 2 7 2 7 3 1 7 2 8 5 4 8 6 0 4 4 6 9 9 9 6 5 3\n",
      " 7 4 7 1 2 3 9 4 4 1 5 9 5 6 1 7 2 1 7 9 1 9 7 3 6 3 1 5 5 9 7 2 7 7 0 7 8\n",
      " 4 1 4 0 2 9 5 6 6 9 7 4 8 4 2 0 9 8 1 4 8 6 7 8 3 3 7 7 9 7 4 2 1 3 8 4 0\n",
      " 0 1 9 3 0 1 5 1 3 5 9 4 7 2 6 1 8 0 8 0 8 9 2 2 9 0 3 4 9 6 9 7 2 7 2 0 6\n",
      " 3 4 7 8 7 8 0 7 3 7 5 1 6 9 6 9 1 7 8 6 3 8 8 0 3 9 5 7 6 8 1 8 1 1 0 3 8\n",
      " 3 7 3 4 4 1 5 2 8 1 5 1 7 4 0 8 2 3 6 6 1 8 1 4 7 4 5 2 7 1 0 2 4 7 6 1 9\n",
      " 3 2 6 9 8 6 1 9 4 1 6 5 3 4 6 0 1 4 2 3 7 7 1 1 4 7 8 0 4 6 4 6 4 1 6 3 3\n",
      " 3 0 1 8 0 8 7 6 2 0 0 6 5 2 7 7 9 9 5 7 7 4 9 3 0 3 8 0 5 5 6 9 7 0 1 9 9\n",
      " 7 8 4 5 2 7 4 0 4 7 7 8 7 2 2 8 7 4 9 4 5 6 1 2 8 0 1 5 8 8 6 2 2 4 4 9 7\n",
      " 9 9 0 0 3 7 7 0 6 5 8 0 2 5 4 0 2 6 4 5 2 7 8 8 0 1 7 8 0 6 5 5 1 9 5 3 0\n",
      " 8 2 5 9 9 3 9 0 4 7 0 0 0 2 3 8 6 0 7 8 6 1 7 3 2 7 8 7 9 1 2 3 9 2 2 8 2\n",
      " 8 7 4 0 0 1 4 0 0 7 9 0 4 5 6 6 8 5 2 8 1 0 4 0 4 3 8 4 2 6 6 4 0 6 3 6 5\n",
      " 4 1 6 6 1 0 5 2 2 5 4 7 9 9 3 8 5 7 6 4 6 0 8 2 6 4 1 9 2 7 4 1 4 5 4 1 7\n",
      " 4 9 0 3 0 2 0 5 1 5 8 4 4 8 2 3 5 3 2 8 4 9 4 7 6 3 4 9 5 6 0 9 8 4 3 8 7\n",
      " 8 4 6 9 3 4 3 0 7 6 1 5 6 6 1 3 1 3 7 1 3 4 3 9 4 0 1 7 0 0 7 5 4 5 5 4 2\n",
      " 9 8 4 4 1 4 3 0 0 6 1 2 2 1 4 1 3 3 4 1 4 2 6 1 1 6 6 8 1 3 3 4 6 9 2 3 5\n",
      " 4 7 3 6 1 0 7 1 8 4 8 4 6 2 2 9 7 4 6 4 9 3 7 2 5 9 1 1 6 2 0 0 2 7 4 9 4\n",
      " 0]\n"
     ]
    },
    {
     "data": {
      "text/plain": [
       "0.836"
      ]
     },
     "execution_count": 20,
     "metadata": {},
     "output_type": "execute_result"
    }
   ],
   "source": [
    "dev_predictions = make_predictions(X_dev, W1, b1, W2, b2)\n",
    "get_accuracy(dev_predictions, Y_dev)"
   ]
  },
  {
   "cell_type": "code",
   "execution_count": null,
   "id": "22b14cbc-c1ba-43fb-bfee-d1b382d4f90c",
   "metadata": {},
   "outputs": [],
   "source": []
  }
 ],
 "metadata": {
  "kernelspec": {
   "display_name": "Python 3 (ipykernel)",
   "language": "python",
   "name": "python3"
  },
  "language_info": {
   "codemirror_mode": {
    "name": "ipython",
    "version": 3
   },
   "file_extension": ".py",
   "mimetype": "text/x-python",
   "name": "python",
   "nbconvert_exporter": "python",
   "pygments_lexer": "ipython3",
   "version": "3.11.7"
  }
 },
 "nbformat": 4,
 "nbformat_minor": 5
}
