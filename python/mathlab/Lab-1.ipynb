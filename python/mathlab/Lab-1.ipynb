{
  "nbformat": 4,
  "nbformat_minor": 0,
  "metadata": {
    "colab": {
      "provenance": []
    },
    "kernelspec": {
      "name": "python3",
      "display_name": "Python 3"
    },
    "language_info": {
      "name": "python"
    }
  },
  "cells": [
    {
      "cell_type": "markdown",
      "source": [
        "1. Evaluate the integral ∫01 ∫0x(x2 + y2)dydx"
      ],
      "metadata": {
        "id": "Rnrz9f4ObSCl"
      }
    },
    {
      "cell_type": "code",
      "execution_count": null,
      "metadata": {
        "id": "I48XYtNpZaMD"
      },
      "outputs": [],
      "source": [
        "from sympy import *\n",
        "x,y,z=symbols('x y z')\n",
        "w1=integrate(x**2+y**2,(y,0,x),(x,0,1))\n",
        "print(w1)"
      ]
    },
    {
      "cell_type": "markdown",
      "source": [
        "2. Evaluate the integral ∫03 ∫03−x ∫03−x−y(xyz)dzdydx"
      ],
      "metadata": {
        "id": "-0C12nDdbblM"
      }
    },
    {
      "cell_type": "code",
      "source": [
        "from sympy import *\n",
        "x,y,z=symbols('x y z')\n",
        "w2=integrate((x*y*z),(z,0,3-x-y),(y,0,3-x),(x,0,3))\n",
        "print(w2)"
      ],
      "metadata": {
        "id": "z-x0o_zrbAyh",
        "outputId": "5699511f-67f8-4786-a7bf-4b5e912e3e54",
        "colab": {
          "base_uri": "https://localhost:8080/"
        }
      },
      "execution_count": 3,
      "outputs": [
        {
          "output_type": "stream",
          "name": "stdout",
          "text": [
            "81/80\n"
          ]
        }
      ]
    },
    {
      "cell_type": "markdown",
      "source": [
        "3. Prove that ∫ ∫ (x2 + y2)dydx = ∫ ∫ (x2 + y2)dxdy"
      ],
      "metadata": {
        "id": "d2FseLmgbo0Q"
      }
    },
    {
      "cell_type": "code",
      "source": [
        "from sympy import *\n",
        "x,y,z=symbols('x y z')\n",
        "w3=integrate(x**2+y**2,y,x)\n",
        "pprint(w3)\n",
        "w4=integrate(x**2+y**2,x,y)\n",
        "pprint(w4)\n",
        "#display(w4)"
      ],
      "metadata": {
        "id": "NiYrw0lBbweX",
        "outputId": "209a1f75-9576-4cd8-bdc2-3c161e5196d4",
        "colab": {
          "base_uri": "https://localhost:8080/"
        }
      },
      "execution_count": 4,
      "outputs": [
        {
          "output_type": "stream",
          "name": "stdout",
          "text": [
            " 3        3\n",
            "x ⋅y   x⋅y \n",
            "──── + ────\n",
            " 3      3  \n",
            " 3        3\n",
            "x ⋅y   x⋅y \n",
            "──── + ────\n",
            " 3      3  \n"
          ]
        }
      ]
    }
  ]
}